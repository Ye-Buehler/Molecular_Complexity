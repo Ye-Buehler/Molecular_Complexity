{
 "cells": [
  {
   "cell_type": "markdown",
   "metadata": {},
   "source": [
    "### TODO: 0. Import packages "
   ]
  },
  {
   "attachments": {},
   "cell_type": "markdown",
   "metadata": {},
   "source": [
    "### TODO: 1. Functions related to complexity scores MC1 and MC2"
   ]
  },
  {
   "cell_type": "code",
   "execution_count": 1,
   "metadata": {},
   "outputs": [],
   "source": [
    "# TODO: HAC calculation\n",
    "def hac(smiles):\n",
    "    mol = Chem.MolFromSmiles(smiles)\n",
    "    size = mol.GetNumHeavyAtoms()\n",
    "\n",
    "    return size"
   ]
  },
  {
   "cell_type": "code",
   "execution_count": 4,
   "metadata": {},
   "outputs": [],
   "source": [
    "# TODO: Calculate the number of divalent nodes\n",
    "def count_divalent_nodes(smiles):\n",
    "    mol = Chem.MolFromSmiles(smiles)\n",
    "    if mol is None:\n",
    "        return 0  # Return 0 if the SMILES string is invalid\n",
    "    return sum(1 for atom in mol.GetAtoms() if atom.GetDegree() == 2)"
   ]
  },
  {
   "cell_type": "code",
   "execution_count": 2,
   "metadata": {},
   "outputs": [],
   "source": [
    "# TODO: Calculate the FDV\n",
    "def divalent_nodes_fraction(smiles):\n",
    "    mol=Chem.MolFromSmiles(smiles)\n",
    "    atom_number = 0\n",
    "    divalent_node = 0\n",
    "    \n",
    "    for atom in mol.GetAtoms():\n",
    "        atom_number += 1\n",
    "        degree = atom.GetDegree()\n",
    "\n",
    "        if degree == 2:\n",
    "            divalent_node += 1 \n",
    "        else:\n",
    "            continue\n",
    "\n",
    "    divalent_ratio = round(divalent_node/atom_number,2)\n",
    "    return divalent_ratio"
   ]
  },
  {
   "cell_type": "code",
   "execution_count": 3,
   "metadata": {},
   "outputs": [],
   "source": [
    "# TODO: Count the number of C=O-X strucutures\n",
    "def count_C_O_X(smiles):\n",
    "    # Convert the SMILES to an RDKit molecule object\n",
    "    mol = Chem.MolFromSmiles(smiles)\n",
    "    \n",
    "    if mol is None:\n",
    "        raise ValueError(\"Invalid SMILES string.\")\n",
    "\n",
    "    # Define the SMARTS pattern for the carbonyl group (C=O)\n",
    "    pattern_C_O = Chem.MolFromSmarts('[C,c]=O')\n",
    "\n",
    "    # Find all carbonyl groups in the molecule\n",
    "    matches_C_O = mol.GetSubstructMatches(pattern_C_O)\n",
    "\n",
    "    # Initialize the count of C=O with either N or O (excluding the bonded oxygen) as a neighbor\n",
    "    count_with_N_or_O = 0\n",
    "\n",
    "    for match in matches_C_O:\n",
    "        carbon_idx, oxygen_idx = match  # Get the carbon and oxygen atom indices in the C=O group\n",
    "\n",
    "        # Get neighboring atoms of the carbon atom\n",
    "        neighbors = mol.GetAtomWithIdx(carbon_idx).GetNeighbors()\n",
    "\n",
    "        # Exclude the oxygen atom from the C=O group when checking neighbors\n",
    "        valid_neighbors = [neighbor for neighbor in neighbors if neighbor.GetIdx() != oxygen_idx]\n",
    "\n",
    "        # Check if any remaining neighbor is either nitrogen (atomic number 7) or oxygen (atomic number 8)\n",
    "        if any(neighbor.GetAtomicNum() in [7, 8] for neighbor in valid_neighbors):\n",
    "            count_with_N_or_O += 1\n",
    "\n",
    "    return count_with_N_or_O"
   ]
  },
  {
   "cell_type": "markdown",
   "metadata": {},
   "source": [
    "### TODO: 2. Functions of  MC1 and MC2"
   ]
  },
  {
   "cell_type": "code",
   "execution_count": 5,
   "metadata": {},
   "outputs": [],
   "source": [
    "# TODO: MC1 calculation\n",
    "def mc1(smiles):\n",
    "\n",
    "    mc1 = 1- divalent_nodes_fraction(smiles)\n",
    "    \n",
    "    return mc1"
   ]
  },
  {
   "cell_type": "code",
   "execution_count": 6,
   "metadata": {},
   "outputs": [],
   "source": [
    "# TODO: MC1 calculation\n",
    "def mc2(smiles):\n",
    "    \n",
    "    mc2 = hac(smiles) - count_divalent_nodes(smiles) - 2*(count_C_O_X)\n",
    "\n",
    "    return mc2"
   ]
  },
  {
   "cell_type": "code",
   "execution_count": null,
   "metadata": {},
   "outputs": [],
   "source": [
    "mc1(\"CCCn1c(N2CCCC2)nc2c(C)nn(C)c2c1=O\")"
   ]
  },
  {
   "cell_type": "code",
   "execution_count": null,
   "metadata": {},
   "outputs": [],
   "source": [
    "mc2(\"CCCn1c(N2CCCC2)nc2c(C)nn(C)c2c1=O\")"
   ]
  }
 ],
 "metadata": {
  "kernelspec": {
   "display_name": "gdb20",
   "language": "python",
   "name": "python3"
  },
  "language_info": {
   "codemirror_mode": {
    "name": "ipython",
    "version": 3
   },
   "file_extension": ".py",
   "mimetype": "text/x-python",
   "name": "python",
   "nbconvert_exporter": "python",
   "pygments_lexer": "ipython3",
   "version": "3.11.3"
  },
  "orig_nbformat": 4
 },
 "nbformat": 4,
 "nbformat_minor": 2
}
