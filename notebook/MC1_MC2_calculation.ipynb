{
 "cells": [
  {
   "cell_type": "code",
   "execution_count": null,
   "metadata": {},
   "outputs": [],
   "source": [
    "import pandas as pd\n",
    "import numpy as np\n",
    "from rdkit import Chem\n",
    "from rdkit.Chem import AllChem\n",
    "from rdkit.Chem import Descriptors"
   ]
  },
  {
   "attachments": {},
   "cell_type": "markdown",
   "metadata": {},
   "source": [
    "### TODO: 1. Functions of MC1"
   ]
  },
  {
   "cell_type": "code",
   "execution_count": null,
   "metadata": {},
   "outputs": [],
   "source": [
    "# TODO: Calculate the FDV\n",
    "def divalent_nodes_fraction(smiles):\n",
    "    mol=Chem.MolFromSmiles(smiles)\n",
    "    atom_number = 0\n",
    "    divalent_node = 0\n",
    "    \n",
    "    for atom in mol.GetAtoms():\n",
    "        atom_number += 1\n",
    "        degree = atom.GetDegree()\n",
    "\n",
    "        if degree == 2:\n",
    "            divalent_node += 1 \n",
    "        else:\n",
    "            continue\n",
    "\n",
    "    divalent_ratio = round(divalent_node/atom_number,2)\n",
    "    return divalent_ratio"
   ]
  },
  {
   "cell_type": "code",
   "execution_count": null,
   "metadata": {},
   "outputs": [],
   "source": [
    "# TODO: MC1 calculation\n",
    "def mc1(smiles):\n",
    "\n",
    "    mc1 = 1- divalent_nodes_fraction(smiles)\n",
    "    \n",
    "    return mc1"
   ]
  },
  {
   "attachments": {},
   "cell_type": "markdown",
   "metadata": {},
   "source": [
    "### TODO: 2. Functions of MC2"
   ]
  },
  {
   "cell_type": "code",
   "execution_count": null,
   "metadata": {},
   "outputs": [],
   "source": [
    "# TODO: MC2 calculation - Count non-divalent atoms that are not in the C=O-X double bonds \n",
    "def mc2(smiles):\n",
    "    mol = Chem.MolFromSmiles(smiles)\n",
    "    if mol is None:\n",
    "        raise ValueError(\"Invalid SMILES string.\")\n",
    "\n",
    "    atoms_in_C_O_X_double_bond = set()\n",
    "\n",
    "    for bond in mol.GetBonds():\n",
    "        # Check for a C=O double bond\n",
    "        if bond.GetBondType() == Chem.rdchem.BondType.DOUBLE:\n",
    "            begin_atom = bond.GetBeginAtom()\n",
    "            end_atom = bond.GetEndAtom()\n",
    "\n",
    "            if {begin_atom.GetAtomicNum(), end_atom.GetAtomicNum()} == {6, 8}:  # C and O\n",
    "                # Identify which one is the carbon\n",
    "                carbon = begin_atom if begin_atom.GetAtomicNum() == 6 else end_atom\n",
    "                oxygen = end_atom if carbon == begin_atom else begin_atom\n",
    "\n",
    "                # Check carbon's neighbors for N or O (excluding the double-bonded O)\n",
    "                for neighbor in carbon.GetNeighbors():\n",
    "                    if neighbor.GetIdx() != oxygen.GetIdx() and neighbor.GetAtomicNum() in [7, 8]:\n",
    "                        atoms_in_C_O_X_double_bond.update([carbon.GetIdx(), oxygen.GetIdx()])\n",
    "                        break  # Only need one N/O neighbor to satisfy the condition\n",
    "\n",
    "    # Count non-divalent atoms not in C=O-X double bonds\n",
    "    count = 0\n",
    "    for atom in mol.GetAtoms():\n",
    "        if atom.GetDegree() != 2 and atom.GetIdx() not in atoms_in_C_O_X_double_bond:\n",
    "            count += 1\n",
    "\n",
    "    return count\n"
   ]
  },
  {
   "cell_type": "markdown",
   "metadata": {},
   "source": [
    "### TODO: 3. Calculation of MC1 and MC2"
   ]
  },
  {
   "cell_type": "code",
   "execution_count": null,
   "metadata": {},
   "outputs": [],
   "source": [
    "mc1(\"COC1=C(O)C=C(CC(=O)O)C=C1Br\")"
   ]
  },
  {
   "cell_type": "code",
   "execution_count": null,
   "metadata": {},
   "outputs": [],
   "source": [
    "mc2(\"COC1=C(O)C=C(CC(=O)O)C=C1Br\")"
   ]
  }
 ],
 "metadata": {
  "kernelspec": {
   "display_name": "gdb20",
   "language": "python",
   "name": "python3"
  },
  "language_info": {
   "codemirror_mode": {
    "name": "ipython",
    "version": 3
   },
   "file_extension": ".py",
   "mimetype": "text/x-python",
   "name": "python",
   "nbconvert_exporter": "python",
   "pygments_lexer": "ipython3",
   "version": "3.11.3"
  },
  "orig_nbformat": 4
 },
 "nbformat": 4,
 "nbformat_minor": 2
}
