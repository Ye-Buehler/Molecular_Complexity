{
 "cells": [
  {
   "cell_type": "code",
   "execution_count": null,
   "metadata": {},
   "outputs": [],
   "source": [
    "import numpy as np\n",
    "import pandas as pd\n",
    "from tqdm import tqdm\n",
    "import six\n",
    "import gzip\n",
    "import math\n",
    "import os\n",
    "import sys\n",
    "import json\n",
    "from collections import defaultdict\n",
    "\n",
    "from rdkit import Chem, RDLogger\n",
    "from rdkit.Chem import AllChem, rdMolDescriptors, RDConfig\n",
    "from rdkit.Chem.SpacialScore import SPS\n",
    "\n",
    "sys.path.append(os.path.join(RDConfig.RDContribDir, 'SA_Score'))\n",
    "import sascorer\n",
    "sys.path.append(os.path.join(RDConfig.RDContribDir, 'ChiralPairs'))\n",
    "import ChiralDescriptors"
   ]
  },
  {
   "attachments": {},
   "cell_type": "markdown",
   "metadata": {},
   "source": [
    "### Functions of other 8 metrics in the paper apart from MC1 & MC2"
   ]
  },
  {
   "attachments": {},
   "cell_type": "markdown",
   "metadata": {},
   "source": [
    "#### 1.FCFP4:"
   ]
  },
  {
   "cell_type": "code",
   "execution_count": 2,
   "metadata": {},
   "outputs": [],
   "source": [
    "# TODO:The sum of on-bits in an ECFP4 as a complexity measure\n",
    "\n",
    "def calculate_fcfp4_complexity(smiles):\n",
    "    # Convert SMILES to RDKit molecule object\n",
    "    mol = Chem.MolFromSmiles(smiles)\n",
    "    if mol is None:\n",
    "        print(f\"Invalid SMILES: {smiles}\")\n",
    "        return None\n",
    "    \n",
    "    \n",
    "    # Suppress RDKit warnings\n",
    "    RDLogger.DisableLog('rdApp.*')\n",
    "    \n",
    "    # Generate FCFP_4 fingerprint (functional-based ECFP4)\n",
    "    # Use the 'useFeatures=True' argument to focus on functional groups\n",
    "    fp = AllChem.GetMorganFingerprintAsBitVect(mol, radius=2, nBits=2048, useFeatures=True)\n",
    "\n",
    "    # Calculate the complexity score by counting on-bits\n",
    "    complexity_score = fp.GetNumOnBits()\n",
    "\n",
    "    return complexity_score"
   ]
  },
  {
   "cell_type": "code",
   "execution_count": 3,
   "metadata": {},
   "outputs": [
    {
     "data": {
      "text/plain": [
       "29"
      ]
     },
     "execution_count": 3,
     "metadata": {},
     "output_type": "execute_result"
    }
   ],
   "source": [
    "calculate_fcfp4_complexity(\"COC1=C(O)C=C(CC(=O)O)C=C1Br\")"
   ]
  },
  {
   "attachments": {},
   "cell_type": "markdown",
   "metadata": {},
   "source": [
    "#### 2.Data Warrior:"
   ]
  },
  {
   "cell_type": "code",
   "execution_count": 4,
   "metadata": {},
   "outputs": [],
   "source": [
    "# You can use the [**DataWarrior**](https://openmolecules.org/datawarrior/download.html) software to calculate the complexity"
   ]
  },
  {
   "attachments": {},
   "cell_type": "markdown",
   "metadata": {},
   "source": [
    "#### 3.Böttcher:"
   ]
  },
  {
   "cell_type": "code",
   "execution_count": 5,
   "metadata": {},
   "outputs": [],
   "source": [
    "# Current failures: Does not distinguish between cyclopentyl and pentyl (etc.)\n",
    "#                   and so unfairly underestimates complexity.\n",
    "\n",
    "def GetChemicalNonequivs(atom, themol):\n",
    "    num_unique_substituents = 0\n",
    "    substituents = [[],[],[],[]]\n",
    "    for item,key in enumerate(ChiralDescriptors.determineAtomSubstituents(atom.GetIdx(), themol, Chem.GetDistanceMatrix(themol))[0]):\n",
    "        for subatom in ChiralDescriptors.determineAtomSubstituents(atom.GetIdx(), themol, Chem.GetDistanceMatrix(themol))[0][key]:\n",
    "            substituents[item].append(themol.GetAtomWithIdx(subatom).GetSymbol())\n",
    "            num_unique_substituents = len(set(tuple(tuple(substituent) for substituent in substituents if substituent)))\n",
    "            #\n",
    "            # Logic to determine e.g. whether repeats of CCCCC are cyclopentyl and pentyl or two of either\n",
    "            #\n",
    "    return num_unique_substituents\n",
    "\n",
    "#\n",
    "# The number of different non-hydrogen elements or isotopes (including deuterium\n",
    "# and tritium) in the atom's microenvironment.\n",
    "#\n",
    "# CH4 - the carbon has e_i of 1\n",
    "# Carbonyl carbon of an amide e.g. CC(=O)N e_i = 3\n",
    "#     while N and O have e_i = 2\n",
    "#\n",
    "def GetBottcherLocalDiversity(atom):\n",
    "    neighbors = []\n",
    "    for neighbor in atom.GetNeighbors():\n",
    "        neighbors.append(str(neighbor.GetSymbol()))\n",
    "    if atom.GetSymbol() in set(neighbors):\n",
    "        return len(set(neighbors))\n",
    "    else:\n",
    "        return len(set(neighbors))+1\n",
    "\n",
    "#\n",
    "# RDKit marks atoms where there is potential for isomerization with a tag \n",
    "# called _CIPCode. If it exists for an atom, note that S = 2, otherwise 1. \n",
    "def GetNumIsomericPossibilities(atom):\n",
    "    try:\n",
    "        if(atom.GetProp('_CIPCode')):\n",
    "            return 2\n",
    "    except:\n",
    "        return 1\n",
    "\n",
    "#\n",
    "# The number of valence electrons the atom would have if it were unbonded and\n",
    "# neutral\n",
    "# TODO: Move this dictionary somewhere else. \n",
    "def GetNumValenceElectrons(atom):\n",
    "    valence = {1: ['H', 'Li', 'Na', 'K', 'Rb', 'Cs', 'Fr'], # Alkali Metals\n",
    "               2: ['Be', 'Mg', 'Ca', 'Sr', 'Ba', 'Ra'], # Alkali Earth Metals\n",
    "               #transition metals???\n",
    "               3: ['B', 'Al', 'Ga', 'In', 'Tl', 'Nh'], #\n",
    "               4: ['C', 'Si', 'Ge', 'Sn', 'Pb', 'Fl'],\n",
    "               5: ['N', 'P', 'As', 'Sb', 'Bi', 'Mc'], # Pnictogens\n",
    "               6: ['O', 'S', 'Se', 'Te', 'Po', 'Lv'], # Chalcogens\n",
    "               7: ['F', 'Cl', 'Br', 'I', 'At', 'Ts'], # Halogens\n",
    "               8: ['He', 'Ne', 'Ar', 'Kr', 'Xe', 'Rn', 'Og']} # Noble Gases\n",
    "    for k in valence:\n",
    "        if atom.GetSymbol() in valence[k]:\n",
    "            return k\n",
    "    return 0\n",
    "\n",
    "#\n",
    "# Represents the total number of bonds to other atoms with V_i*b_i > 1, so\n",
    "# basically bonds to atoms other than Hydrogen\n",
    "#\n",
    "# Here we can leverage the fact that RDKit does not even report Hydrogens by\n",
    "# default to simply loop over the bonds. We will have to account for molecules\n",
    "# that have hydrogens turned on before we can submit this code as a patch\n",
    "# though.\n",
    "#\n",
    "# TODO: Create a dictionary for atom-B value pairs for use when AROMATIC is detected in bonds.\n",
    "def GetBottcherBondIndex(atom):\n",
    "    b_sub_i_ranking = 0\n",
    "    bonds = []\n",
    "    for bond in atom.GetBonds():\n",
    "        bonds.append(str(bond.GetBondType()))\n",
    "    for bond in bonds:\n",
    "        if bond == 'SINGLE':\n",
    "            b_sub_i_ranking += 1\n",
    "        if bond == 'DOUBLE':\n",
    "            b_sub_i_ranking += 2\n",
    "        if bond == 'TRIPLE':\n",
    "            b_sub_i_ranking += 3\n",
    "    if 'AROMATIC' in bonds:\n",
    "        # This list can be expanded as errors arise.\n",
    "        if atom.GetSymbol() == 'C':\n",
    "            b_sub_i_ranking += 3\n",
    "        elif atom.GetSymbol() == 'N':\n",
    "            b_sub_i_ranking += 2\n",
    "    return b_sub_i_ranking\n",
    "\n",
    "def GetBottcherComplexity(smiles, debug=False):\n",
    "    themol=Chem.MolFromSmiles(smiles)\n",
    "    complexity = 0\n",
    "    Chem.AssignStereochemistry(themol,cleanIt=True,force=True,flagPossibleStereoCenters=True)\n",
    "    atoms = themol.GetAtoms();\n",
    "    atom_stereo_classes = []\n",
    "    atoms_corrected_for_symmetry = []\n",
    "    for atom in atoms:\n",
    "        if atom.GetProp('_CIPRank') in atom_stereo_classes:\n",
    "            continue\n",
    "        else:\n",
    "            atoms_corrected_for_symmetry.append(atom)\n",
    "            atom_stereo_classes.append(atom.GetProp('_CIPRank'))\n",
    "    for atom in atoms_corrected_for_symmetry:\n",
    "        d = GetChemicalNonequivs(atom, themol)\n",
    "        e = GetBottcherLocalDiversity(atom)\n",
    "        s = GetNumIsomericPossibilities(atom)\n",
    "        V = GetNumValenceElectrons(atom)\n",
    "        b = GetBottcherBondIndex(atom)\n",
    "        complexity += d*e*s*math.log(V*b,2)\n",
    "        if debug:\n",
    "            print(str(atom.GetSymbol()))\n",
    "            print('\\tSymmetry Class: ' + str(atom.GetProp('_CIPRank')))\n",
    "            print('\\tNeighbors: ')\n",
    "            print('\\tBonds: ')\n",
    "            print('\\tCurrent Parameter Values:')\n",
    "            print('\\t\\td_sub_i: ' + str(d))\n",
    "            print('\\t\\te_sub_i: ' + str(e))\n",
    "            print('\\t\\ts_sub_i: ' + str(s))\n",
    "            print('\\t\\tV_sub_i: ' + str(V))\n",
    "            print('\\t\\tb_sub_i: ' + str(b))\n",
    "    if debug:\n",
    "        print('Current Complexity Score: ' + str(complexity))\n",
    "        return\n",
    "    return complexity"
   ]
  },
  {
   "cell_type": "code",
   "execution_count": 6,
   "metadata": {},
   "outputs": [
    {
     "data": {
      "text/plain": [
       "161.80418485421137"
      ]
     },
     "execution_count": 6,
     "metadata": {},
     "output_type": "execute_result"
    }
   ],
   "source": [
    "GetBottcherComplexity(\"COC1=C(O)C=C(CC(=O)O)C=C1Br\")"
   ]
  },
  {
   "attachments": {},
   "cell_type": "markdown",
   "metadata": {},
   "source": [
    "#### 4.Proudfoot:"
   ]
  },
  {
   "cell_type": "code",
   "execution_count": 7,
   "metadata": {},
   "outputs": [],
   "source": [
    "def calculate_path_complexity(smiles):\n",
    "    # Convert SMILES to RDKit molecule object\n",
    "    mol = Chem.MolFromSmiles(smiles)\n",
    "    if mol is None:\n",
    "        print(f\"Invalid SMILES: {smiles}\")\n",
    "        return None\n",
    "\n",
    "    # Generate atom paths and path frequencies using Morgan fingerprint\n",
    "    radius = 2  # Path length (corresponding to ECFP4)\n",
    "    fingerprint = rdMolDescriptors.GetMorganFingerprint(mol, radius)\n",
    "    paths = fingerprint.GetNonzeroElements()\n",
    "\n",
    "    # Calculate path frequencies per atom environment\n",
    "    atom_paths = defaultdict(list)\n",
    "    for path, count in paths.items():\n",
    "        atoms_in_path = path % mol.GetNumAtoms()  # Map path back to atom\n",
    "        atom_paths[atoms_in_path].append(count)\n",
    "\n",
    "    # Step 1: Calculate atomic complexity (CA)\n",
    "    ca_values = {}\n",
    "    for atom, path_counts in atom_paths.items():\n",
    "        total_paths = sum(path_counts)\n",
    "        path_fractions = [count / total_paths for count in path_counts]\n",
    "        ca = -sum(p * math.log2(p) for p in path_fractions) + math.log2(total_paths)\n",
    "        ca_values[atom] = ca\n",
    "\n",
    "    # Step 2: Calculate molecular complexity (CM)\n",
    "    cm = sum(ca_values.values())\n",
    "\n",
    "    # Step 3: Calculate log-sum complexity (CM*)\n",
    "    # cm_star = math.log2(sum(2 ** ca for ca in ca_values.values()))\n",
    "\n",
    "    # Step 4: Calculate structural entropy complexity (CSE)\n",
    "    # atom_types = [atom.GetAtomicNum() for atom in mol.GetAtoms()]\n",
    "    # total_atoms = len(atom_types)\n",
    "    # type_frequencies = {atype: atom_types.count(atype) / total_atoms for atype in set(atom_types)}\n",
    "    # cse = -sum(freq * math.log2(freq) for freq in type_frequencies.values())\n",
    "\n",
    "    return cm\n",
    "        #\"CA (per atom)\": ca_values,\n",
    "        #\"CM (molecular complexity)\": cm\n",
    "        #\"CM* (log-sum complexity)\": cm_star,\n",
    "        #\"CSE (structural entropy complexity)\": cse\n"
   ]
  },
  {
   "cell_type": "code",
   "execution_count": 8,
   "metadata": {},
   "outputs": [
    {
     "data": {
      "text/plain": [
       "30.54277674961796"
      ]
     },
     "execution_count": 8,
     "metadata": {},
     "output_type": "execute_result"
    }
   ],
   "source": [
    "calculate_path_complexity(\"COC1=C(O)C=C(CC(=O)O)C=C1Br\")"
   ]
  },
  {
   "attachments": {},
   "cell_type": "markdown",
   "metadata": {},
   "source": [
    "#### 5.SPS:"
   ]
  },
  {
   "cell_type": "code",
   "execution_count": 9,
   "metadata": {},
   "outputs": [],
   "source": [
    "# TODO: SPS calculation\n",
    "def sps(smiles):\n",
    "    mol = Chem.MolFromSmiles(smiles)\n",
    "    sps = SPS(mol, normalize=False)\n",
    "    return sps"
   ]
  },
  {
   "cell_type": "code",
   "execution_count": 10,
   "metadata": {},
   "outputs": [
    {
     "data": {
      "text/plain": [
       "138"
      ]
     },
     "execution_count": 10,
     "metadata": {},
     "output_type": "execute_result"
    }
   ],
   "source": [
    "sps(\"COC1=C(O)C=C(CC(=O)O)C=C1Br\")"
   ]
  },
  {
   "attachments": {},
   "cell_type": "markdown",
   "metadata": {},
   "source": [
    "#### 6.nSPS:"
   ]
  },
  {
   "cell_type": "code",
   "execution_count": 11,
   "metadata": {},
   "outputs": [],
   "source": [
    "# TODO: nSPS calculation\n",
    "def nsps(smiles):\n",
    "    mol = Chem.MolFromSmiles(smiles)\n",
    "    nsps = SPS(mol, normalize=True)\n",
    "    return nsps"
   ]
  },
  {
   "cell_type": "code",
   "execution_count": 12,
   "metadata": {},
   "outputs": [
    {
     "data": {
      "text/plain": [
       "9.857142857142858"
      ]
     },
     "execution_count": 12,
     "metadata": {},
     "output_type": "execute_result"
    }
   ],
   "source": [
    "nsps(\"COC1=C(O)C=C(CC(=O)O)C=C1Br\")"
   ]
  },
  {
   "attachments": {},
   "cell_type": "markdown",
   "metadata": {},
   "source": [
    "#### 7.SAscore:"
   ]
  },
  {
   "cell_type": "code",
   "execution_count": 13,
   "metadata": {},
   "outputs": [],
   "source": [
    "# TODO: Calculate the SAS\n",
    "def sascore(smiles):\n",
    "    mol=Chem.MolFromSmiles(smiles)\n",
    "    sas_score = sascorer.calculateScore(mol)\n",
    "    return sas_score"
   ]
  },
  {
   "cell_type": "code",
   "execution_count": 14,
   "metadata": {},
   "outputs": [
    {
     "data": {
      "text/plain": [
       "2.180114265525818"
      ]
     },
     "execution_count": 14,
     "metadata": {},
     "output_type": "execute_result"
    }
   ],
   "source": [
    "sascore(\"COC1=C(O)C=C(CC(=O)O)C=C1Br\")"
   ]
  },
  {
   "attachments": {},
   "cell_type": "markdown",
   "metadata": {},
   "source": [
    "#### 8.SCS:"
   ]
  },
  {
   "cell_type": "code",
   "execution_count": 15,
   "metadata": {},
   "outputs": [],
   "source": [
    "'''\n",
    "This is a standalone, importable SCScorer model. It does not have tensorflow as a\n",
    "dependency and is a more attractive option for deployment. The calculations are\n",
    "fast enough that there is no real reason to use GPUs (via tf) instead of CPUs (via np)\n",
    "'''\n",
    "\n",
    "project_root = '/SCS/scscore-master'  # Update this to your project root directory\n",
    "\n",
    "score_scale = 5.0\n",
    "min_separation = 0.25\n",
    "\n",
    "FP_len = 1024\n",
    "FP_rad = 2\n",
    "\n",
    "def sigmoid(x):\n",
    "  return 1 / (1 + math.exp(-x))\n",
    "\n",
    "class SCScorer():\n",
    "    def __init__(self, score_scale=score_scale):\n",
    "        self.vars = []\n",
    "        self.score_scale = score_scale\n",
    "        self._restored = False\n",
    "\n",
    "    def restore(self, weight_path=os.path.join(project_root, 'models', 'full_reaxys_model_1024bool', 'model.ckpt-10654.as_numpy.pickle'), FP_rad=FP_rad, FP_len=FP_len):\n",
    "        self.FP_len = FP_len; self.FP_rad = FP_rad\n",
    "        self._load_vars(weight_path)\n",
    "        #print('Restored variables from {}'.format(weight_path))\n",
    "\n",
    "        if 'uint8' in weight_path or 'counts' in weight_path:\n",
    "            def mol_to_fp(self, mol):\n",
    "                if mol is None:\n",
    "                    return np.array((self.FP_len,), dtype=np.uint8)\n",
    "                fp = AllChem.GetMorganFingerprint(mol, self.FP_rad, useChirality=True) # uitnsparsevect\n",
    "                fp_folded = np.zeros((self.FP_len,), dtype=np.uint8)\n",
    "                for k, v in six.iteritems(fp.GetNonzeroElements()):\n",
    "                    fp_folded[k % self.FP_len] += v\n",
    "                return np.array(fp_folded)\n",
    "        else:\n",
    "            def mol_to_fp(self, mol):\n",
    "                if mol is None:\n",
    "                    return np.zeros((self.FP_len,), dtype=np.float32)\n",
    "                return np.array(AllChem.GetMorganFingerprintAsBitVect(mol, self.FP_rad, nBits=self.FP_len,\n",
    "                    useChirality=True), dtype=np.bool_)\n",
    "        self.mol_to_fp = mol_to_fp\n",
    "\n",
    "        self._restored = True\n",
    "        return self\n",
    "\n",
    "    def smi_to_fp(self, smi):\n",
    "        if not smi:\n",
    "            return np.zeros((self.FP_len,), dtype=np.float32)\n",
    "        return self.mol_to_fp(self, Chem.MolFromSmiles(smi))\n",
    "\n",
    "    def apply(self, x):\n",
    "        if not self._restored:\n",
    "            raise ValueError('Must restore model weights!')\n",
    "        # Each pair of vars is a weight and bias term\n",
    "        for i in range(0, len(self.vars), 2):\n",
    "            last_layer = (i == len(self.vars)-2)\n",
    "            W = self.vars[i]\n",
    "            b = self.vars[i+1]\n",
    "            x = np.matmul(x, W) + b\n",
    "            if not last_layer:\n",
    "                x = x * (x > 0) # ReLU\n",
    "        x = 1 + (score_scale - 1) / (1 + math.exp(-x))\n",
    "        return x\n",
    "\n",
    "    def get_score_from_smi(self, smi='', v=False):\n",
    "        if not smi:\n",
    "            return ('', 0.)\n",
    "        fp = np.array((self.smi_to_fp(smi)), dtype=np.float32)\n",
    "        if sum(fp) == 0:\n",
    "            if v: print('Could not get fingerprint?')\n",
    "            cur_score = 0.\n",
    "        else:\n",
    "            # Run\n",
    "            cur_score = self.apply(fp)\n",
    "            if v: print('Score: {}'.format(cur_score))\n",
    "        mol = Chem.MolFromSmiles(smi)\n",
    "        if mol:\n",
    "            smi = Chem.MolToSmiles(mol, isomericSmiles=True, kekuleSmiles=True)\n",
    "        else:\n",
    "            smi = ''\n",
    "        return (smi, cur_score)\n",
    "\n",
    "    def _load_vars(self, weight_path):\n",
    "        if weight_path.endswith('pickle'):\n",
    "            import cPickle as pickle\n",
    "            with open(weight_path, 'rb') as fid:\n",
    "                self.vars = pickle.load(fid)\n",
    "                self.vars = [x.tolist() for x in self.vars]\n",
    "        elif weight_path.endswith('json.gz'):\n",
    "            with gzip.GzipFile(weight_path, 'r') as fin:    \n",
    "                json_bytes = fin.read()                      \n",
    "                json_str = json_bytes.decode('utf-8')            \n",
    "                self.vars = json.loads(json_str)\n",
    "                self.vars = [np.array(x) for x in self.vars]\n"
   ]
  },
  {
   "cell_type": "code",
   "execution_count": 16,
   "metadata": {},
   "outputs": [
    {
     "data": {
      "text/html": [
       "<div>\n",
       "<style scoped>\n",
       "    .dataframe tbody tr th:only-of-type {\n",
       "        vertical-align: middle;\n",
       "    }\n",
       "\n",
       "    .dataframe tbody tr th {\n",
       "        vertical-align: top;\n",
       "    }\n",
       "\n",
       "    .dataframe thead th {\n",
       "        text-align: right;\n",
       "    }\n",
       "</style>\n",
       "<table border=\"1\" class=\"dataframe\">\n",
       "  <thead>\n",
       "    <tr style=\"text-align: right;\">\n",
       "      <th></th>\n",
       "      <th>SMILES</th>\n",
       "    </tr>\n",
       "  </thead>\n",
       "  <tbody>\n",
       "    <tr>\n",
       "      <th>0</th>\n",
       "      <td>COC1=C(O)C=C(CC(=O)O)C=C1Br</td>\n",
       "    </tr>\n",
       "  </tbody>\n",
       "</table>\n",
       "</div>"
      ],
      "text/plain": [
       "                        SMILES\n",
       "0  COC1=C(O)C=C(CC(=O)O)C=C1Br"
      ]
     },
     "execution_count": 16,
     "metadata": {},
     "output_type": "execute_result"
    }
   ],
   "source": [
    "# Define your SMILES string\n",
    "smi = \"COC1=C(O)C=C(CC(=O)O)C=C1Br\"\n",
    "\n",
    "# Create a DataFrame\n",
    "df = pd.DataFrame({'SMILES': [smi]})\n",
    "\n",
    "df"
   ]
  },
  {
   "cell_type": "code",
   "execution_count": 17,
   "metadata": {},
   "outputs": [
    {
     "name": "stderr",
     "output_type": "stream",
     "text": [
      "/tmp/ipykernel_1153771/451110517.py:65: DeprecationWarning: Conversion of an array with ndim > 0 to a scalar is deprecated, and will error in future. Ensure you extract a single element from your array before performing this operation. (Deprecated NumPy 1.25.)\n",
      "  x = 1 + (score_scale - 1) / (1 + math.exp(-x))\n"
     ]
    },
    {
     "data": {
      "text/html": [
       "<div>\n",
       "<style scoped>\n",
       "    .dataframe tbody tr th:only-of-type {\n",
       "        vertical-align: middle;\n",
       "    }\n",
       "\n",
       "    .dataframe tbody tr th {\n",
       "        vertical-align: top;\n",
       "    }\n",
       "\n",
       "    .dataframe thead th {\n",
       "        text-align: right;\n",
       "    }\n",
       "</style>\n",
       "<table border=\"1\" class=\"dataframe\">\n",
       "  <thead>\n",
       "    <tr style=\"text-align: right;\">\n",
       "      <th></th>\n",
       "      <th>SMILES</th>\n",
       "      <th>SCS</th>\n",
       "    </tr>\n",
       "  </thead>\n",
       "  <tbody>\n",
       "    <tr>\n",
       "      <th>0</th>\n",
       "      <td>COC1=C(O)C=C(CC(=O)O)C=C1Br</td>\n",
       "      <td>2.334439</td>\n",
       "    </tr>\n",
       "  </tbody>\n",
       "</table>\n",
       "</div>"
      ],
      "text/plain": [
       "                        SMILES       SCS\n",
       "0  COC1=C(O)C=C(CC(=O)O)C=C1Br  2.334439"
      ]
     },
     "execution_count": 17,
     "metadata": {},
     "output_type": "execute_result"
    }
   ],
   "source": [
    "if __name__ == '__main__':\n",
    "\n",
    "    # Ensure the input file has at least one column\n",
    "    if 'SMILES' not in df.columns:\n",
    "        raise ValueError(\"Input file must have a 'smiles' column\")\n",
    "\n",
    "    # Initialize the model\n",
    "    model = SCScorer()\n",
    "    model.restore(os.path.join(project_root, 'models', 'full_reaxys_model_1024bool', 'model.ckpt-10654.as_numpy.json.gz'))\n",
    "\n",
    "    # Process each SMILES string and store the scores\n",
    "    scores = []\n",
    "    for smi in df['SMILES']:\n",
    "        _, sco = model.get_score_from_smi(smi)\n",
    "        scores.append(sco)\n",
    "\n",
    "    # Add a new column to the DataFrame for the scores\n",
    "    df['SCS'] = scores\n",
    "df"
   ]
  }
 ],
 "metadata": {
  "kernelspec": {
   "display_name": "gdb20",
   "language": "python",
   "name": "python3"
  },
  "language_info": {
   "codemirror_mode": {
    "name": "ipython",
    "version": 3
   },
   "file_extension": ".py",
   "mimetype": "text/x-python",
   "name": "python",
   "nbconvert_exporter": "python",
   "pygments_lexer": "ipython3",
   "version": "3.11.3"
  },
  "orig_nbformat": 4
 },
 "nbformat": 4,
 "nbformat_minor": 2
}
